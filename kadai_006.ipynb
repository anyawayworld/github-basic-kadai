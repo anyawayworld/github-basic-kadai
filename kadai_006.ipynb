{
  "nbformat": 4,
  "nbformat_minor": 0,
  "metadata": {
    "colab": {
      "provenance": [],
      "toc_visible": true,
      "authorship_tag": "ABX9TyPR64LCKydUvNob7BGd8ZDs",
      "include_colab_link": true
    },
    "kernelspec": {
      "name": "python3",
      "display_name": "Python 3"
    },
    "language_info": {
      "name": "python"
    }
  },
  "cells": [
    {
      "cell_type": "markdown",
      "metadata": {
        "id": "view-in-github",
        "colab_type": "text"
      },
      "source": [
        "<a href=\"https://colab.research.google.com/github/anyawayworld/github-basic-kadai/blob/main/kadai_006.ipynb\" target=\"_parent\"><img src=\"https://colab.research.google.com/assets/colab-badge.svg\" alt=\"Open In Colab\"/></a>"
      ]
    },
    {
      "cell_type": "code",
      "source": [
        "# Calculation of the area of a trapezoid using the given formula and parameters\n",
        "upper_side = 10  # cm\n",
        "lower_side = 20  # cm\n",
        "height = 5       # cm\n",
        "\n",
        "# Trapezoid area formula: Area = (upper_side + lower_side) * height / 2\n",
        "trapezoid_area = (upper_side + lower_side) * height / 2\n",
        "\n",
        "# Output the area with unit\n",
        "print (f\"{trapezoid_area} cm²\")"
      ],
      "metadata": {
        "id": "-3UtYA-Wk1O7",
        "outputId": "f56ef606-6956-4888-dc2f-c4baaa7d80f7",
        "colab": {
          "base_uri": "https://localhost:8080/"
        }
      },
      "execution_count": null,
      "outputs": [
        {
          "output_type": "stream",
          "name": "stdout",
          "text": [
            "75.0 cm²\n"
          ]
        }
      ]
    }
  ]
}