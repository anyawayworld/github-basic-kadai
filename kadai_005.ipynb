{
  "nbformat": 4,
  "nbformat_minor": 0,
  "metadata": {
    "colab": {
      "provenance": [],
      "toc_visible": true,
      "authorship_tag": "ABX9TyPlT3fNwq0d95hjoKuFlr/o",
      "include_colab_link": true
    },
    "kernelspec": {
      "name": "python3",
      "display_name": "Python 3"
    },
    "language_info": {
      "name": "python"
    }
  },
  "cells": [
    {
      "cell_type": "markdown",
      "metadata": {
        "id": "view-in-github",
        "colab_type": "text"
      },
      "source": [
        "<a href=\"https://colab.research.google.com/github/anyawayworld/github-basic-kadai/blob/main/kadai_005.ipynb\" target=\"_parent\"><img src=\"https://colab.research.google.com/assets/colab-badge.svg\" alt=\"Open In Colab\"/></a>"
      ]
    },
    {
      "cell_type": "code",
      "source": [
        "\n",
        "array = [\n",
        "    \"月曜日は晴れです\",\n",
        "    \"火曜日は雨です\",\n",
        "    \"水曜日は晴れです\",\n",
        "    \"木曜日は晴れです\",\n",
        "    \"金曜日は曇りです\",\n",
        "    \"土曜日は曇りのち雨です\",\n",
        "    \"日曜日は雷雨です\"\n",
        "]\n",
        "\n",
        "\n",
        "wednesday_forecast_list = array[2]\n",
        "print (wednesday_forecast_list)"
      ],
      "metadata": {
        "colab": {
          "base_uri": "https://localhost:8080/"
        },
        "id": "DWd5ItZplxwA",
        "outputId": "79c20d41-cf04-41cf-f8aa-a46f59420a5e"
      },
      "execution_count": 1,
      "outputs": [
        {
          "output_type": "stream",
          "name": "stdout",
          "text": [
            "水曜日は晴れです\n"
          ]
        }
      ]
    },
    {
      "cell_type": "code",
      "source": [
        "dictionary = {\n",
        "    \"月曜日\": \"晴れです\",\n",
        "    \"火曜日\": \"雨です\",\n",
        "    \"水曜日\": \"晴れです\",\n",
        "    \"木曜日\": \"晴れです\",\n",
        "    \"金曜日\": \"曇りです\",\n",
        "    \"土曜日\": \"曇りのち雨です\",\n",
        "    \"日曜日\": \"雷雨です\"\n",
        "}\n",
        "\n",
        "wednesday_forecast_dict = dictionary[\"水曜日\"]\n",
        "print (wednesday_forecast_dict)"
      ],
      "metadata": {
        "colab": {
          "base_uri": "https://localhost:8080/"
        },
        "id": "oNXeSbj2nJE4",
        "outputId": "9968a4f0-3baf-4b7e-f0ad-c710b7cf4629"
      },
      "execution_count": 2,
      "outputs": [
        {
          "output_type": "stream",
          "name": "stdout",
          "text": [
            "晴れです\n"
          ]
        }
      ]
    }
  ]
}